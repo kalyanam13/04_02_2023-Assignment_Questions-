{
 "cells": [
  {
   "cell_type": "markdown",
   "id": "426c6a31",
   "metadata": {},
   "source": [
    "# PWSkills [ASSIGNMENT QUESTIONS]"
   ]
  },
  {
   "cell_type": "markdown",
   "id": "a4f22efb",
   "metadata": {},
   "source": [
    "### Question no.1: Create a python program to sort the given list of tuples based on integer value using a lambda function.\n",
    "### [('Sachine Tendulkar',34357),('Ricky Ponting',27483),('Jack Kallis',25534),('Virat Kohli',24936)]\n",
    "### Answer:"
   ]
  },
  {
   "cell_type": "code",
   "execution_count": 1,
   "id": "91fffda1",
   "metadata": {},
   "outputs": [
    {
     "name": "stdout",
     "output_type": "stream",
     "text": [
      "[('Sachine Tendulkar', 34357), ('Ricky Ponting', 27483), ('Jack Kallis', 25534), ('Virat Kohli', 24936)]\n"
     ]
    }
   ],
   "source": [
    "players=[('Sachine Tendulkar',34357),('Ricky Ponting',27483),('Jack Kallis',25534),('Virat Kohli',24936)]\n",
    "sorted_players=sorted(players,key=lambda x:x[1],reverse=True)\n",
    "print(sorted_players)"
   ]
  },
  {
   "cell_type": "markdown",
   "id": "974b51d5",
   "metadata": {},
   "source": [
    "### Question no.2: Write a python program to find the squares of all the numbers in the given list of integers using lambda and map functions.\n",
    "### [1,2,3,4,5,6,7,8,9,10]\n",
    "### Answer:"
   ]
  },
  {
   "cell_type": "code",
   "execution_count": 2,
   "id": "7770eebc",
   "metadata": {},
   "outputs": [
    {
     "data": {
      "text/plain": [
       "[1, 4, 9, 16, 25, 36, 49, 64, 81, 100]"
      ]
     },
     "execution_count": 2,
     "metadata": {},
     "output_type": "execute_result"
    }
   ],
   "source": [
    "l=[1,2,3,4,5,6,7,8,9,10]\n",
    "list(map(lambda x: x*x , l ))"
   ]
  },
  {
   "cell_type": "markdown",
   "id": "10533851",
   "metadata": {},
   "source": [
    "### Question no.3: Write a python program to convert the given list of integers into a tuple of strings. Use map and lambda functions.\n",
    "### Given String:[1,2,3,4,5,6,7,8,9,10]\n",
    "### Expected output:('1','2','3','4','5','6','7','8','9','10')\n",
    "### Answer:"
   ]
  },
  {
   "cell_type": "code",
   "execution_count": 5,
   "id": "7e41c289",
   "metadata": {},
   "outputs": [
    {
     "data": {
      "text/plain": [
       "('1', '2', '3', '4', '5', '6', '7', '8', '9', '10')"
      ]
     },
     "execution_count": 5,
     "metadata": {},
     "output_type": "execute_result"
    }
   ],
   "source": [
    "l=[1,2,3,4,5,6,7,8,9,10]\n",
    "tuple(map(lambda x:str(x),l))"
   ]
  },
  {
   "cell_type": "markdown",
   "id": "5f9fd068",
   "metadata": {},
   "source": [
    "### Question no.4: Write a python program using reduce function to compute the product of a list containing numbers from 1 to 25.\n",
    "### Answer:"
   ]
  },
  {
   "cell_type": "code",
   "execution_count": 7,
   "id": "33b89ecc",
   "metadata": {},
   "outputs": [
    {
     "name": "stdout",
     "output_type": "stream",
     "text": [
      "15511210043330985984000000\n"
     ]
    }
   ],
   "source": [
    "from functools import reduce\n",
    "numbers=list(range(1,26))\n",
    "product=reduce(lambda x,y: x*y , numbers )\n",
    "print(product)"
   ]
  },
  {
   "cell_type": "markdown",
   "id": "0b0ec760",
   "metadata": {},
   "source": [
    "### Question no.5: Write a python program to filter the numbers in a given list that are divisible by 2 and 3 using the filter function.\n",
    "### [2,3,6,9,27,60,90,120,55,46]\n",
    "### Answer:"
   ]
  },
  {
   "cell_type": "code",
   "execution_count": 15,
   "id": "06e28701",
   "metadata": {},
   "outputs": [
    {
     "data": {
      "text/plain": [
       "[6, 60, 90, 120]"
      ]
     },
     "execution_count": 15,
     "metadata": {},
     "output_type": "execute_result"
    }
   ],
   "source": [
    "l=[2,3,6,9,27,60,90,120,55,46]\n",
    "list(filter(lambda x:x%2==0 and x%3==0,l))"
   ]
  },
  {
   "cell_type": "markdown",
   "id": "51b1364e",
   "metadata": {},
   "source": [
    "### Question no.6: Write a python program to find palindromes in the given list of strings using lambda and filter function.\n",
    "### ['python','php','aba','radar','level']\n",
    "### Answer:"
   ]
  },
  {
   "cell_type": "code",
   "execution_count": 29,
   "id": "66657429",
   "metadata": {},
   "outputs": [
    {
     "data": {
      "text/plain": [
       "['php', 'aba', 'radar', 'level']"
      ]
     },
     "execution_count": 29,
     "metadata": {},
     "output_type": "execute_result"
    }
   ],
   "source": [
    "l=['python','php','aba','radar','level']\n",
    "list(filter(lambda x: x[0::] == x [::-1] , l ))"
   ]
  },
  {
   "cell_type": "code",
   "execution_count": null,
   "id": "71c90e24",
   "metadata": {},
   "outputs": [],
   "source": []
  }
 ],
 "metadata": {
  "kernelspec": {
   "display_name": "Python 3 (ipykernel)",
   "language": "python",
   "name": "python3"
  },
  "language_info": {
   "codemirror_mode": {
    "name": "ipython",
    "version": 3
   },
   "file_extension": ".py",
   "mimetype": "text/x-python",
   "name": "python",
   "nbconvert_exporter": "python",
   "pygments_lexer": "ipython3",
   "version": "3.9.13"
  }
 },
 "nbformat": 4,
 "nbformat_minor": 5
}
